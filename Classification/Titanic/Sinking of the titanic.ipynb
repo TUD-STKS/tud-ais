{
 "cells": [
  {
   "cell_type": "markdown",
   "metadata": {
    "editable": false
   },
   "source": [
    "<img src=\"Images/IMG-Titanic-Banner.gif\">"
   ]
  },
  {
   "cell_type": "markdown",
   "metadata": {
    "editable": false
   },
   "source": [
    "Wednesday, 10. April 1912, Southhampton in England. An important day for the <a href=\"https://en.wikipedia.org/wiki/White_Star_Line\">White Star Line</a>, because today, their most prestigious vessel started its maiden voyage. More than 1300 passengers were looking forward to starting their ride to New York City. More than 900 crew members were ready to work on this vessel during the atlantic crossing. The name of this ship: <a href=\"https://en.wikipedia.org/wiki/RMS_Titanic\">RMS Titanic</a>.\n",
    "\n",
    "In previous notebooks, we have learned more about methods for data preprocessing and classification. Now, it is time to try exactly these methods on a new dataset (almost) without any instructions! The task is to predict the survival of a passenger based on the authentic data of more than 800 passengers.\n",
    "\n",
    "Please try to follow (at least roughly) the structure of this notebook in order to achieve an optimal result. You can send your final predictions as CSV file to <a href=\"mailto:simon.stone@tu-dresden.de?Subject=Predictions%20to%20Jupyter%20Notebook%20Titanic\" target=\"_top\">Simon Stone</a> to attend a an internal ranking that we will announce at the end of the lectures period.\n",
    "\n",
    "**Important:** If you work on this notebook as part of the \"Praktikum AIS\", please send ot together with the notebook for regression in a ZIP archive to your supervisor (see slides for introduction to the lab).\n",
    "\n",
    "<img style=\"float: right; margin:5px 0px 0px 10px\" src=\"Images/IMG-White-Star-Line.jpg\" alt=\"White-Star-Line-Poster\" width=\"256\">\n",
    "\n",
    "## Content\n",
    "<table style=\"width:256; border: 1px solid black; display: inline-block\">\n",
    "  <tr>\n",
    "    <td  style=\"text-align:right\" width=64px><img src=\"Images/IMG-csv-in.png\" style=\"float:left\"></td>\n",
    "      <td style=\"text-align:left\" width=128px>\n",
    "          <a style=\"color:black; font-size:14px; font-weight:bold; text-decoration:none\" href='#import_data'>Import data</a>\n",
    "      </td>\n",
    "  </tr>\n",
    "  <tr>\n",
    "    <td style=\"text-align:right\"><img src=\"Images/IMG-magnifying-glass.png\" style=\"float:left\"></td>\n",
    "    <td style=\"text-align:left\" width=128px><a style=\"color:black; font-size:14px; font-weight:bold; text-decoration:none\" href='#analyze_data'>Analyze data</a>\n",
    "      </td>\n",
    "  </tr>\n",
    "    <tr>\n",
    "    <td style=\"text-align:right\"><img src=\"Images/IMG-broom.png\" style=\"float:left\"></td>\n",
    "    <td style=\"text-align:left\" width=128px><a style=\"color:black; font-size:14px; font-weight:bold; text-decoration:none\" href='#clean_data'>Clean up data</a>\n",
    "        </td>\n",
    "    </tr>\n",
    "    <tr>\n",
    "    <td style=\"text-align:right\"><img src=\"Images/IMG-gears.png\" style=\"float:left\"></td>\n",
    "    <td style=\"text-align:left\" width=128px><a style=\"color:black; font-size:14px; font-weight:bold; text-decoration:none\" href='#build_model'>Model selection</a>\n",
    "        </td>\n",
    "        <tr>\n",
    "    <td style=\"text-align:right\"><img src=\"Images/IMG-new-file-out.png\" style=\"float:left\"></td>\n",
    "    <td style=\"text-align:left\" width=128px><a style=\"color:black; font-size:14px; font-weight:bold; text-decoration:none\" href='#save_model'>Make predictions</a>\n",
    "        </td>\n",
    "  </tr>\n",
    "        <tr>\n",
    "    <td style=\"text-align:right\"><img src=\"Images/IMG-new-file-out.png\" style=\"float:left\"></td>\n",
    "    <td style=\"text-align:left\" width=128px><a style=\"color:black; font-size:14px; font-weight:bold; text-decoration:none\" href='#save_model'>Store predictions</a>\n",
    "        </td>\n",
    "  </tr>\n",
    "</table>"
   ]
  },
  {
   "cell_type": "markdown",
   "metadata": {
    "editable": false
   },
   "source": [
    "<a id='import_data'></a><div><img src=\"Images/IMG-csv-in.png\" style=\"float:left\"> <h2 style=\"position: relative; top: 6px; left:10px\">1. Import data</h2>\n",
    "<p style=\"position: relative; top: 10px\">\n",
    "Load the passenger data for the training of the classifier from the file \"titanic.csv\" in the directory \"Data\". The column names have the following meanings:\n",
    "\n",
    "</p>\n",
    "<table style=\"width:256; border: 1px solid black; display: inline-block\">\n",
    "    <tr>\n",
    "        <td style=\"text-align:left\"><p style=\"color:black; font-size:14px; font-weight:bold\">Survived:</p>\n",
    "        </td>\n",
    "        <td style=\"text-align:left\"><p style=\"color:black; font-size:14px\">Label to predict. 1: Passenger has survived. 0: Passenger has not survived.</p>\n",
    "        </td>\n",
    "    </tr>\n",
    "    <tr>\n",
    "        <td style=\"text-align:left\"><p style=\"color:black; font-size:14px; font-weight:bold\">Pclass:</p>\n",
    "        </td>\n",
    "        <td style=\"text-align:left\"><p style=\"color:black; font-size:14px\">Traveling class of the passenger</p>\n",
    "        </td>\n",
    "    </tr>\n",
    "    <tr>\n",
    "        <td style=\"text-align:left\"><p style=\"color:black; font-size:14px; font-weight:bold\">Name:</p>\n",
    "        </td>\n",
    "        <td style=\"text-align:left\"><p style=\"color:black; font-size:14px\">Title and name of the passenger. In case of wives, at forst comes the name of the husband, then the own name in brackets. 🙄</p>\n",
    "        </td>\n",
    "    </tr>\n",
    "    <tr>\n",
    "        <td style=\"text-align:left\"><p style=\"color:black; font-size:14px; font-weight:bold\">Sex:</p>\n",
    "        </td>\n",
    "        <td style=\"text-align:left\"><p style=\"color:black; font-size:14px\">Gender</p>\n",
    "        </td>\n",
    "    </tr>\n",
    "    <tr>\n",
    "        <td style=\"text-align:left\"><p style=\"color:black; font-size:14px; font-weight:bold\">Age:</p>\n",
    "        </td>\n",
    "        <td style=\"text-align:left\"><p style=\"color:black; font-size:14px\">Age of the passenger</p>\n",
    "        </td>\n",
    "    </tr>\n",
    "    <tr>\n",
    "        <td style=\"text-align:left\"><p style=\"color:black; font-size:14px; font-weight:bold\">Siblings_SpousesAboard:</p>\n",
    "        </td>\n",
    "        <td style=\"text-align:left\"><p style=\"color:black; font-size:14px\">Number of attending siblings and partners</p>\n",
    "        </td>\n",
    "    </tr>\n",
    "    <tr>\n",
    "        <td style=\"text-align:left\"><p style=\"color:black; font-size:14px; font-weight:bold\">Parents_ChildrenAboard:</p>\n",
    "        </td>\n",
    "        <td style=\"text-align:left\"><p style=\"color:black; font-size:14px\">Number of attending parents and children</p>\n",
    "        </td>\n",
    "    </tr>\n",
    "    <tr>\n",
    "        <td style=\"text-align:left\"><p style=\"color:black; font-size:14px; font-weight:bold\">Fare:</p>\n",
    "        </td>\n",
    "        <td style=\"text-align:left\"><p style=\"color:black; font-size:14px\">Payed ticket price in Pound sterling</p>\n",
    "        </td>\n",
    "    </tr>\n",
    "    </table>\n",
    "    \n",
    "Afterwards, load the test data from \"titanic_test.csv\" in the directory \"Data\". The data structure is the same, but the column \"Survived\" is missing, because it has to be predicted."
   ]
  },
  {
   "cell_type": "code",
   "execution_count": 1,
   "metadata": {},
   "outputs": [
    {
     "ename": "ModuleNotFoundError",
     "evalue": "No module named 'pandas'",
     "output_type": "error",
     "traceback": [
      "\u001B[1;31m---------------------------------------------------------------------------\u001B[0m",
      "\u001B[1;31mModuleNotFoundError\u001B[0m                       Traceback (most recent call last)",
      "\u001B[1;32m<ipython-input-1-7ba7db57bc3e>\u001B[0m in \u001B[0;36m<module>\u001B[1;34m\u001B[0m\n\u001B[1;32m----> 1\u001B[1;33m \u001B[1;32mimport\u001B[0m \u001B[0mpandas\u001B[0m \u001B[1;32mas\u001B[0m \u001B[0mpd\u001B[0m\u001B[1;33m\u001B[0m\u001B[1;33m\u001B[0m\u001B[0m\n\u001B[0m\u001B[0;32m      2\u001B[0m \u001B[1;33m\u001B[0m\u001B[0m\n\u001B[0;32m      3\u001B[0m \u001B[1;33m\u001B[0m\u001B[0m\n\u001B[0;32m      4\u001B[0m \u001B[1;31m# Daten importieren\u001B[0m\u001B[1;33m\u001B[0m\u001B[1;33m\u001B[0m\u001B[1;33m\u001B[0m\u001B[0m\n\u001B[0;32m      5\u001B[0m \u001B[1;33m\u001B[0m\u001B[0m\n",
      "\u001B[1;31mModuleNotFoundError\u001B[0m: No module named 'pandas'"
     ]
    }
   ],
   "source": [
    "import pandas as pd\n",
    "\n",
    "\n",
    "# Import data\n"
   ]
  },
  {
   "cell_type": "markdown",
   "metadata": {
    "editable": false
   },
   "source": [
    "<a id='analyze_data'></a><div><img src=\"Images/IMG-magnifying-glass.png\" style=\"float:left\"> <h2 style=\"position: relative; top: 6px; left: 10px\">2. Analyze data</h2>\n",
    "<p style=\"position: relative; top: 10px\">\n",
    "Analyze the dataset. Which columns are numerical? How are the values of one feature distributed? Where are missing features?\n",
    "</p>"
   ]
  },
  {
   "cell_type": "code",
   "execution_count": null,
   "metadata": {},
   "outputs": [],
   "source": [
    "# Explore the dataset"
   ]
  },
  {
   "cell_type": "markdown",
   "metadata": {
    "editable": false
   },
   "source": [
    "<a id='clean_data'></a><div><img src=\"Images/IMG-broom.png\" style=\"float:left\"> <h2 style=\"position: relative; top: 6px; left:10px\">3. Clean up data</h2>\n",
    "<p style=\"position: relative; top: 10px\">\n",
    "Convert all non-numerical data. Add missing values. You should now already know how this works.\n",
    "\n",
    "It might be unnecessary to use all features or observations. Maybe, you can drop some features. Or can you derive new features from the existing ones? Which dependencies between different features can have a potential influence on the chance of survival? Be creative here!\n",
    "</p>"
   ]
  },
  {
   "cell_type": "code",
   "execution_count": null,
   "metadata": {},
   "outputs": [],
   "source": [
    "# Clean up data"
   ]
  },
  {
   "cell_type": "markdown",
   "metadata": {
    "editable": false
   },
   "source": [
    "<a id='build_model'></a><div><img src=\"Images/IMG-gears.png\" style=\"float:left\"> <h2 style=\"position: relative; top: 6px; left:10px\">4. Model selection</h2>\n",
    "<p style=\"position: relative; top: 10px\">\n",
    "Train a classifier to predict the survival of a classifier! Remember, independent of the choice of your model, to optimize all hyper parameters.\n",
    "</p>"
   ]
  },
  {
   "cell_type": "code",
   "execution_count": null,
   "metadata": {},
   "outputs": [],
   "source": [
    "# Train a model\n",
    "\n",
    "# Do not forget cross validation to optimize the hyper parameters!\n",
    "\n",
    "# Finaly, train a model with the optimal hyper parameters on the entire labeled training dataset!"
   ]
  },
  {
   "cell_type": "markdown",
   "metadata": {
    "editable": false
   },
   "source": [
    "<a id='make_predictions'></a><div><img src=\"Images/IMG-alert.png\" style=\"float:left\"> <h2 style=\"position: relative; top: 6px; left:10px\">5. Make predictions</h2>\n",
    "<p style=\"position: relative; top: 10px\">\n",
    "Use your trained model to make predictions about the survival for all unlabeled observations from \"titanic_test.csv\"!\n",
    "\n",
    "Remember to prepare the data <strong>exactly the same way as</strong> for the training data before.\n",
    "</p>"
   ]
  },
  {
   "cell_type": "code",
   "execution_count": null,
   "metadata": {},
   "outputs": [],
   "source": [
    "# Preprocessing of test data (exactly the same way as for the training dataset!)\n",
    "\n",
    "# Make Predictions"
   ]
  },
  {
   "cell_type": "markdown",
   "metadata": {
    "editable": false
   },
   "source": [
    "<a id='save_predictions'></a><div><img src=\"Images/IMG-csv-out.png\" style=\"float:left\"> <h2 style=\"position: relative; top: 6px; left:10px\">6. Store predictions</h2>\n",
    "<p style=\"position: relative; top: 10px\">\n",
    "Store the predictions in a CSV file. The file should have only one column. Every column should have exactly one number: 0 means \"passenger has not survived\" and 1 means \"passenger survived\". The order of the predictions must match the order of observations in \"titanic_test.csv\".\n",
    "</p>"
   ]
  },
  {
   "cell_type": "code",
   "execution_count": null,
   "metadata": {},
   "outputs": [],
   "source": [
    "# Store predictions"
   ]
  },
  {
   "cell_type": "markdown",
   "metadata": {
    "editable": false
   },
   "source": [
    "If you want, you can send the CSV file with your predictions to <a href=\"mailto:simon.stone@tu-dresden.de?Subject=Predictions%20for%20Jupyter%20Notebook%20Titanic\" target=\"_top\">Simon Stone</a> and attend a small challenge: We compute the classification accuracy on the unseen data and create an internal ranking in this course. We will publish it in the end of the lecture period. You can also tell as a pseudonym that appears in the list, if you do not want to appear with your real name there. Good luck!"
   ]
  },
  {
   "cell_type": "markdown",
   "metadata": {
    "editable": false
   },
   "source": [
    "<img src=\"Images/IMG-Titanic-Footer.jpg\">"
   ]
  },
  {
   "cell_type": "markdown",
   "metadata": {
    "editable": false
   },
   "source": [
    "---\n",
    "<div>Passenger data from <a href=\"https://www.encyclopedia-titanica.org/\">Encyclopedia Titanica</a></div>\n",
    "<div>Header background swiped from <a href=\"https://titanicsound.wordpress.com/\">Titanic Movie blog</a></div>\n",
    "<div>Icons made by <a href=\"https://www.flaticon.com/authors/swifticons\" title=\"Swifticons\">Swifticons</a> from <a href=\"https://www.flaticon.com/\" title=\"Flaticon\">www.flaticon.com</a></div>\n",
    "<div>Footer image by Karl Beutel, licensed under <a href=\"https://creativecommons.org/licenses/by-sa/3.0/deed.en\">Creative Commons Attribution-Share Alike 3.0 Unported</a></div>\n",
    "<div>Notebook created by <a href=\"mailto:simon.stone@tu-dresden.de?Subject=Question%20about%20Jupyter%20Notebook%20Titanic\" target=\"_top\">Simon Stone</a> and <a href=\"mailto:peter.steiner@tu-dresden.de?Subject=Question%20about%20Jupyter%20Notebook%20Titanic\" target=\"_top\">Peter Steiner</a></div>"
   ]
  }
 ],
 "metadata": {
  "celltoolbar": "Edit Metadata",
  "kernelspec": {
   "display_name": "Python 3",
   "language": "python",
   "name": "python3"
  },
  "language_info": {
   "codemirror_mode": {
    "name": "ipython",
    "version": 3
   },
   "file_extension": ".py",
   "mimetype": "text/x-python",
   "name": "python",
   "nbconvert_exporter": "python",
   "pygments_lexer": "ipython3",
   "version": "3.7.3"
  }
 },
 "nbformat": 4,
 "nbformat_minor": 2
}